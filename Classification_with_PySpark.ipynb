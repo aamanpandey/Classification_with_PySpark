{
  "nbformat": 4,
  "nbformat_minor": 0,
  "metadata": {
    "colab": {
      "name": "Classification with PySpark.ipynb",
      "provenance": [],
      "collapsed_sections": []
    },
    "kernelspec": {
      "name": "python3",
      "display_name": "Python 3"
    },
    "language_info": {
      "name": "python"
    }
  },
  "cells": [
    {
      "cell_type": "markdown",
      "metadata": {
        "id": "9IOMVZ6oswm5"
      },
      "source": [
        "# **Classification with PySpark**\n",
        "\n",
        "**Dataset:** Pima Indians Diabetes Database"
      ]
    },
    {
      "cell_type": "markdown",
      "metadata": {
        "id": "CIe-QkAy0oRA"
      },
      "source": [
        "# About Data"
      ]
    },
    {
      "cell_type": "markdown",
      "metadata": {
        "id": "J1XT28jW27QP"
      },
      "source": [
        "The datasets consists of several medical predictor variables and one target variable, Outcome. Predictor variables includes the number of pregnancies the patient has had, their BMI, insulin level, age, and so on.\n",
        "\n",
        "Pregnancies : Number of times pregnant\n",
        "\n",
        "Glucose : Plasma glucose concentration a 2 hours in an oral glucose tolerance test\n",
        "\n",
        "BloodPressure: Diastolic blood pressure (mm Hg)\n",
        "\n",
        "SkinThickness: Triceps skin fold thickness (mm)\n",
        "\n",
        "Insulin : 2-Hour serum insulin (mu U/ml)\n",
        "\n",
        "BMI : Body mass index (weight in kg/(height in m)²)\n",
        "\n",
        "DiabetesPedigreeFunction : Diabetes pedigree function\n",
        "\n",
        "Age : Age (years)\n",
        "\n",
        "Outcome : Class variable (0 or 1) 268 of 768 are 1, the others are 0"
      ]
    },
    {
      "cell_type": "markdown",
      "metadata": {
        "id": "GtWu-imE0tiy"
      },
      "source": [
        "# Necessary Installation"
      ]
    },
    {
      "cell_type": "code",
      "metadata": {
        "id": "QxNhB5P2tFVS"
      },
      "source": [
        "!apt-get install openjdk-8-jdk-headless -qq > /dev/null\n",
        "!wget -q https://downloads.apache.org/spark/spark-3.1.1/spark-3.1.1-bin-hadoop2.7.tgz\n",
        "!tar xf spark-3.1.1-bin-hadoop2.7.tgz"
      ],
      "execution_count": 1,
      "outputs": []
    },
    {
      "cell_type": "code",
      "metadata": {
        "id": "h5hyiRqbt1T3"
      },
      "source": [
        "import os\n",
        "os.environ[\"JAVA_HOME\"] = \"/usr/lib/jvm/java-8-openjdk-amd64\"\n",
        "os.environ[\"SPARK_HOME\"] = \"/content/spark-3.1.1-bin-hadoop2.7\""
      ],
      "execution_count": 2,
      "outputs": []
    },
    {
      "cell_type": "code",
      "metadata": {
        "id": "yW2CEEUXt49g"
      },
      "source": [
        "import pandas as pd\n",
        "import numpy as np"
      ],
      "execution_count": 3,
      "outputs": []
    },
    {
      "cell_type": "code",
      "metadata": {
        "colab": {
          "base_uri": "https://localhost:8080/"
        },
        "id": "GZK5iVCmt7m7",
        "outputId": "43f60e6a-6d15-4477-cf20-e66ebc919476"
      },
      "source": [
        "!pip install -q findspark\n",
        "!pip install pyspark"
      ],
      "execution_count": 4,
      "outputs": [
        {
          "output_type": "stream",
          "text": [
            "Requirement already satisfied: pyspark in /usr/local/lib/python3.7/dist-packages (3.1.1)\n",
            "Requirement already satisfied: py4j==0.10.9 in /usr/local/lib/python3.7/dist-packages (from pyspark) (0.10.9)\n"
          ],
          "name": "stdout"
        }
      ]
    },
    {
      "cell_type": "code",
      "metadata": {
        "id": "fT9GDgypt_lZ"
      },
      "source": [
        "from pyspark.sql import SparkSession"
      ],
      "execution_count": 5,
      "outputs": []
    },
    {
      "cell_type": "code",
      "metadata": {
        "id": "-bIiRbL3uEKs"
      },
      "source": [
        "APP_NAME = \"diabetes\"\n",
        "SPARK_URL = \"local[*]\"\n",
        "SPARK_HOME = os.environ[\"SPARK_HOME\"]"
      ],
      "execution_count": 6,
      "outputs": []
    },
    {
      "cell_type": "code",
      "metadata": {
        "id": "sqYtN4SouI-m"
      },
      "source": [
        "spark = SparkSession.builder.appName(APP_NAME).getOrCreate()"
      ],
      "execution_count": 7,
      "outputs": []
    },
    {
      "cell_type": "code",
      "metadata": {
        "colab": {
          "base_uri": "https://localhost:8080/",
          "height": 219
        },
        "id": "Px9lwG0DuLBq",
        "outputId": "55489c23-a5bd-4873-fd63-6f567e6d24b7"
      },
      "source": [
        "spark"
      ],
      "execution_count": 8,
      "outputs": [
        {
          "output_type": "execute_result",
          "data": {
            "text/html": [
              "\n",
              "            <div>\n",
              "                <p><b>SparkSession - in-memory</b></p>\n",
              "                \n",
              "        <div>\n",
              "            <p><b>SparkContext</b></p>\n",
              "\n",
              "            <p><a href=\"http://7b5774193e9f:4040\">Spark UI</a></p>\n",
              "\n",
              "            <dl>\n",
              "              <dt>Version</dt>\n",
              "                <dd><code>v3.1.1</code></dd>\n",
              "              <dt>Master</dt>\n",
              "                <dd><code>local[*]</code></dd>\n",
              "              <dt>AppName</dt>\n",
              "                <dd><code>diabetes</code></dd>\n",
              "            </dl>\n",
              "        </div>\n",
              "        \n",
              "            </div>\n",
              "        "
            ],
            "text/plain": [
              "<pyspark.sql.session.SparkSession at 0x7f29e9b48890>"
            ]
          },
          "metadata": {
            "tags": []
          },
          "execution_count": 8
        }
      ]
    },
    {
      "cell_type": "markdown",
      "metadata": {
        "id": "goTLCabA0UqV"
      },
      "source": [
        "# Data Preparation"
      ]
    },
    {
      "cell_type": "code",
      "metadata": {
        "id": "EnIQlHyquQGZ"
      },
      "source": [
        "diabetes = spark.read.format('csv').option(\"header\", \"true\").option(\"inferSchema\", \"true\").load('/content/diabetes.csv')"
      ],
      "execution_count": 9,
      "outputs": []
    },
    {
      "cell_type": "code",
      "metadata": {
        "colab": {
          "base_uri": "https://localhost:8080/"
        },
        "id": "tz61cnz2yU5b",
        "outputId": "1afa1de0-ba9f-42a0-9097-df9c2f81534a"
      },
      "source": [
        "diabetes.show()"
      ],
      "execution_count": 10,
      "outputs": [
        {
          "output_type": "stream",
          "text": [
            "+-----------+-------+-------------+-------------+-------+----+------------------------+---+-------+\n",
            "|Pregnancies|Glucose|BloodPressure|SkinThickness|Insulin| BMI|DiabetesPedigreeFunction|Age|Outcome|\n",
            "+-----------+-------+-------------+-------------+-------+----+------------------------+---+-------+\n",
            "|          6|    148|           72|           35|      0|33.6|                   0.627| 50|      1|\n",
            "|          1|     85|           66|           29|      0|26.6|                   0.351| 31|      0|\n",
            "|          8|    183|           64|            0|      0|23.3|                   0.672| 32|      1|\n",
            "|          1|     89|           66|           23|     94|28.1|                   0.167| 21|      0|\n",
            "|          0|    137|           40|           35|    168|43.1|                   2.288| 33|      1|\n",
            "|          5|    116|           74|            0|      0|25.6|                   0.201| 30|      0|\n",
            "|          3|     78|           50|           32|     88|31.0|                   0.248| 26|      1|\n",
            "|         10|    115|            0|            0|      0|35.3|                   0.134| 29|      0|\n",
            "|          2|    197|           70|           45|    543|30.5|                   0.158| 53|      1|\n",
            "|          8|    125|           96|            0|      0| 0.0|                   0.232| 54|      1|\n",
            "|          4|    110|           92|            0|      0|37.6|                   0.191| 30|      0|\n",
            "|         10|    168|           74|            0|      0|38.0|                   0.537| 34|      1|\n",
            "|         10|    139|           80|            0|      0|27.1|                   1.441| 57|      0|\n",
            "|          1|    189|           60|           23|    846|30.1|                   0.398| 59|      1|\n",
            "|          5|    166|           72|           19|    175|25.8|                   0.587| 51|      1|\n",
            "|          7|    100|            0|            0|      0|30.0|                   0.484| 32|      1|\n",
            "|          0|    118|           84|           47|    230|45.8|                   0.551| 31|      1|\n",
            "|          7|    107|           74|            0|      0|29.6|                   0.254| 31|      1|\n",
            "|          1|    103|           30|           38|     83|43.3|                   0.183| 33|      0|\n",
            "|          1|    115|           70|           30|     96|34.6|                   0.529| 32|      1|\n",
            "+-----------+-------+-------------+-------------+-------+----+------------------------+---+-------+\n",
            "only showing top 20 rows\n",
            "\n"
          ],
          "name": "stdout"
        }
      ]
    },
    {
      "cell_type": "code",
      "metadata": {
        "colab": {
          "base_uri": "https://localhost:8080/"
        },
        "id": "umCx7QMQ292N",
        "outputId": "46b0161a-6e97-4d38-d568-803af501f51c"
      },
      "source": [
        "print(\"There are\", diabetes.count(), \"rows\", len(diabetes.columns), \"Columns\")"
      ],
      "execution_count": 11,
      "outputs": [
        {
          "output_type": "stream",
          "text": [
            "There are 768 rows 9 Columns\n"
          ],
          "name": "stdout"
        }
      ]
    },
    {
      "cell_type": "code",
      "metadata": {
        "colab": {
          "base_uri": "https://localhost:8080/"
        },
        "id": "Yj3JIZCL2-A3",
        "outputId": "634365c2-e5b9-4321-eb76-24392d7bd37b"
      },
      "source": [
        "diabetes.printSchema()"
      ],
      "execution_count": 12,
      "outputs": [
        {
          "output_type": "stream",
          "text": [
            "root\n",
            " |-- Pregnancies: integer (nullable = true)\n",
            " |-- Glucose: integer (nullable = true)\n",
            " |-- BloodPressure: integer (nullable = true)\n",
            " |-- SkinThickness: integer (nullable = true)\n",
            " |-- Insulin: integer (nullable = true)\n",
            " |-- BMI: double (nullable = true)\n",
            " |-- DiabetesPedigreeFunction: double (nullable = true)\n",
            " |-- Age: integer (nullable = true)\n",
            " |-- Outcome: integer (nullable = true)\n",
            "\n"
          ],
          "name": "stdout"
        }
      ]
    },
    {
      "cell_type": "code",
      "metadata": {
        "colab": {
          "base_uri": "https://localhost:8080/",
          "height": 294
        },
        "id": "PulTjUPY2-ER",
        "outputId": "1f95dbf9-fed3-4c18-f175-630bfb9b7682"
      },
      "source": [
        "# describe() function to extract the statistics of the numerical columns in the table\n",
        "numeric= [t[0] for t in diabetes.dtypes if t[1] =='int']\n",
        "diabetes.select(numeric).describe().toPandas().transpose()"
      ],
      "execution_count": 13,
      "outputs": [
        {
          "output_type": "execute_result",
          "data": {
            "text/html": [
              "<div>\n",
              "<style scoped>\n",
              "    .dataframe tbody tr th:only-of-type {\n",
              "        vertical-align: middle;\n",
              "    }\n",
              "\n",
              "    .dataframe tbody tr th {\n",
              "        vertical-align: top;\n",
              "    }\n",
              "\n",
              "    .dataframe thead th {\n",
              "        text-align: right;\n",
              "    }\n",
              "</style>\n",
              "<table border=\"1\" class=\"dataframe\">\n",
              "  <thead>\n",
              "    <tr style=\"text-align: right;\">\n",
              "      <th></th>\n",
              "      <th>0</th>\n",
              "      <th>1</th>\n",
              "      <th>2</th>\n",
              "      <th>3</th>\n",
              "      <th>4</th>\n",
              "    </tr>\n",
              "  </thead>\n",
              "  <tbody>\n",
              "    <tr>\n",
              "      <th>summary</th>\n",
              "      <td>count</td>\n",
              "      <td>mean</td>\n",
              "      <td>stddev</td>\n",
              "      <td>min</td>\n",
              "      <td>max</td>\n",
              "    </tr>\n",
              "    <tr>\n",
              "      <th>Pregnancies</th>\n",
              "      <td>768</td>\n",
              "      <td>3.8450520833333335</td>\n",
              "      <td>3.36957806269887</td>\n",
              "      <td>0</td>\n",
              "      <td>17</td>\n",
              "    </tr>\n",
              "    <tr>\n",
              "      <th>Glucose</th>\n",
              "      <td>768</td>\n",
              "      <td>120.89453125</td>\n",
              "      <td>31.97261819513622</td>\n",
              "      <td>0</td>\n",
              "      <td>199</td>\n",
              "    </tr>\n",
              "    <tr>\n",
              "      <th>BloodPressure</th>\n",
              "      <td>768</td>\n",
              "      <td>69.10546875</td>\n",
              "      <td>19.355807170644777</td>\n",
              "      <td>0</td>\n",
              "      <td>122</td>\n",
              "    </tr>\n",
              "    <tr>\n",
              "      <th>SkinThickness</th>\n",
              "      <td>768</td>\n",
              "      <td>20.536458333333332</td>\n",
              "      <td>15.952217567727642</td>\n",
              "      <td>0</td>\n",
              "      <td>99</td>\n",
              "    </tr>\n",
              "    <tr>\n",
              "      <th>Insulin</th>\n",
              "      <td>768</td>\n",
              "      <td>79.79947916666667</td>\n",
              "      <td>115.24400235133803</td>\n",
              "      <td>0</td>\n",
              "      <td>846</td>\n",
              "    </tr>\n",
              "    <tr>\n",
              "      <th>Age</th>\n",
              "      <td>768</td>\n",
              "      <td>33.240885416666664</td>\n",
              "      <td>11.760231540678689</td>\n",
              "      <td>21</td>\n",
              "      <td>81</td>\n",
              "    </tr>\n",
              "    <tr>\n",
              "      <th>Outcome</th>\n",
              "      <td>768</td>\n",
              "      <td>0.3489583333333333</td>\n",
              "      <td>0.476951377242799</td>\n",
              "      <td>0</td>\n",
              "      <td>1</td>\n",
              "    </tr>\n",
              "  </tbody>\n",
              "</table>\n",
              "</div>"
            ],
            "text/plain": [
              "                   0                   1                   2    3    4\n",
              "summary        count                mean              stddev  min  max\n",
              "Pregnancies      768  3.8450520833333335    3.36957806269887    0   17\n",
              "Glucose          768        120.89453125   31.97261819513622    0  199\n",
              "BloodPressure    768         69.10546875  19.355807170644777    0  122\n",
              "SkinThickness    768  20.536458333333332  15.952217567727642    0   99\n",
              "Insulin          768   79.79947916666667  115.24400235133803    0  846\n",
              "Age              768  33.240885416666664  11.760231540678689   21   81\n",
              "Outcome          768  0.3489583333333333   0.476951377242799    0    1"
            ]
          },
          "metadata": {
            "tags": []
          },
          "execution_count": 13
        }
      ]
    },
    {
      "cell_type": "code",
      "metadata": {
        "colab": {
          "base_uri": "https://localhost:8080/"
        },
        "id": "KFkbLL_I45Gc",
        "outputId": "82f98cfd-6cc0-4b6e-8170-2029e70f8daf"
      },
      "source": [
        "diabetes.groupBy('Outcome').count().show()"
      ],
      "execution_count": 14,
      "outputs": [
        {
          "output_type": "stream",
          "text": [
            "+-------+-----+\n",
            "|Outcome|count|\n",
            "+-------+-----+\n",
            "|      1|  268|\n",
            "|      0|  500|\n",
            "+-------+-----+\n",
            "\n"
          ],
          "name": "stdout"
        }
      ]
    },
    {
      "cell_type": "code",
      "metadata": {
        "colab": {
          "base_uri": "https://localhost:8080/",
          "height": 79
        },
        "id": "PDRYRIcz7MHG",
        "outputId": "32070d50-9718-4c18-d7ba-816187d0ac4b"
      },
      "source": [
        "from pyspark.sql.functions import isnan, when, count, col\n",
        "diabetes.select([count(when(isnan(c), c)).alias(c) for c in diabetes.columns]).toPandas().head()"
      ],
      "execution_count": 15,
      "outputs": [
        {
          "output_type": "execute_result",
          "data": {
            "text/html": [
              "<div>\n",
              "<style scoped>\n",
              "    .dataframe tbody tr th:only-of-type {\n",
              "        vertical-align: middle;\n",
              "    }\n",
              "\n",
              "    .dataframe tbody tr th {\n",
              "        vertical-align: top;\n",
              "    }\n",
              "\n",
              "    .dataframe thead th {\n",
              "        text-align: right;\n",
              "    }\n",
              "</style>\n",
              "<table border=\"1\" class=\"dataframe\">\n",
              "  <thead>\n",
              "    <tr style=\"text-align: right;\">\n",
              "      <th></th>\n",
              "      <th>Pregnancies</th>\n",
              "      <th>Glucose</th>\n",
              "      <th>BloodPressure</th>\n",
              "      <th>SkinThickness</th>\n",
              "      <th>Insulin</th>\n",
              "      <th>BMI</th>\n",
              "      <th>DiabetesPedigreeFunction</th>\n",
              "      <th>Age</th>\n",
              "      <th>Outcome</th>\n",
              "    </tr>\n",
              "  </thead>\n",
              "  <tbody>\n",
              "    <tr>\n",
              "      <th>0</th>\n",
              "      <td>0</td>\n",
              "      <td>0</td>\n",
              "      <td>0</td>\n",
              "      <td>0</td>\n",
              "      <td>0</td>\n",
              "      <td>0</td>\n",
              "      <td>0</td>\n",
              "      <td>0</td>\n",
              "      <td>0</td>\n",
              "    </tr>\n",
              "  </tbody>\n",
              "</table>\n",
              "</div>"
            ],
            "text/plain": [
              "   Pregnancies  Glucose  BloodPressure  ...  DiabetesPedigreeFunction  Age  Outcome\n",
              "0            0        0              0  ...                         0    0        0\n",
              "\n",
              "[1 rows x 9 columns]"
            ]
          },
          "metadata": {
            "tags": []
          },
          "execution_count": 15
        }
      ]
    },
    {
      "cell_type": "code",
      "metadata": {
        "id": "-J6JQs6MFvm1"
      },
      "source": [
        "# We have used userdefinded function to change the “Outcome” values from 0 to “No”, and from 1 to “Yes”\n",
        "\n",
        "from pyspark.sql.functions import udf\n",
        "from pyspark.sql.types import StringType\n",
        "y_udf = udf(lambda y: \"No\" if y==0 else \"yes\", StringType())\n",
        "\n",
        "df= diabetes.withColumn('HasDiabities', y_udf('OutCome')).drop('OutCome')\n"
      ],
      "execution_count": 16,
      "outputs": []
    },
    {
      "cell_type": "code",
      "metadata": {
        "colab": {
          "base_uri": "https://localhost:8080/"
        },
        "id": "cnsZ3hpvLVe4",
        "outputId": "f90e35b2-5e79-45eb-9b91-2df34722961d"
      },
      "source": [
        "df.printSchema()"
      ],
      "execution_count": 17,
      "outputs": [
        {
          "output_type": "stream",
          "text": [
            "root\n",
            " |-- Pregnancies: integer (nullable = true)\n",
            " |-- Glucose: integer (nullable = true)\n",
            " |-- BloodPressure: integer (nullable = true)\n",
            " |-- SkinThickness: integer (nullable = true)\n",
            " |-- Insulin: integer (nullable = true)\n",
            " |-- BMI: double (nullable = true)\n",
            " |-- DiabetesPedigreeFunction: double (nullable = true)\n",
            " |-- Age: integer (nullable = true)\n",
            " |-- HasDiabities: string (nullable = true)\n",
            "\n"
          ],
          "name": "stdout"
        }
      ]
    },
    {
      "cell_type": "code",
      "metadata": {
        "id": "sKpbGJs3LgXh"
      },
      "source": [
        "def udf_multiple(age):\n",
        "  if (age <=25):\n",
        "    return 'Under 25'\n",
        "  elif (age >=25 and age<=35):\n",
        "    return 'Between 25 and 35'\n",
        "  elif (age >=35 and age < 50):\n",
        "    return 'Between 36 and 49'\n",
        "  elif (age >50):\n",
        "    return 'Over 50'\n",
        "  else: return 'N/A'\n",
        "\n",
        "e_udf = udf(udf_multiple)\n",
        "df=df.withColumn(\"Age_udf\", e_udf('Age'))"
      ],
      "execution_count": 26,
      "outputs": []
    },
    {
      "cell_type": "code",
      "metadata": {
        "colab": {
          "base_uri": "https://localhost:8080/"
        },
        "id": "H_rKwljFQnuB",
        "outputId": "46e6b941-41ab-4023-9c31-3008b2e61404"
      },
      "source": [
        "df.show()"
      ],
      "execution_count": 27,
      "outputs": [
        {
          "output_type": "stream",
          "text": [
            "+-----------+-------+-------------+-------------+-------+----+------------------------+---+------------+-----------------+\n",
            "|Pregnancies|Glucose|BloodPressure|SkinThickness|Insulin| BMI|DiabetesPedigreeFunction|Age|HasDiabities|          Age_udf|\n",
            "+-----------+-------+-------------+-------------+-------+----+------------------------+---+------------+-----------------+\n",
            "|          6|    148|           72|           35|      0|33.6|                   0.627| 50|         yes|              N/A|\n",
            "|          1|     85|           66|           29|      0|26.6|                   0.351| 31|          No|Between 25 and 35|\n",
            "|          8|    183|           64|            0|      0|23.3|                   0.672| 32|         yes|Between 25 and 35|\n",
            "|          1|     89|           66|           23|     94|28.1|                   0.167| 21|          No|         Under 25|\n",
            "|          0|    137|           40|           35|    168|43.1|                   2.288| 33|         yes|Between 25 and 35|\n",
            "|          5|    116|           74|            0|      0|25.6|                   0.201| 30|          No|Between 25 and 35|\n",
            "|          3|     78|           50|           32|     88|31.0|                   0.248| 26|         yes|Between 25 and 35|\n",
            "|         10|    115|            0|            0|      0|35.3|                   0.134| 29|          No|Between 25 and 35|\n",
            "|          2|    197|           70|           45|    543|30.5|                   0.158| 53|         yes|          Over 50|\n",
            "|          8|    125|           96|            0|      0| 0.0|                   0.232| 54|         yes|          Over 50|\n",
            "|          4|    110|           92|            0|      0|37.6|                   0.191| 30|          No|Between 25 and 35|\n",
            "|         10|    168|           74|            0|      0|38.0|                   0.537| 34|         yes|Between 25 and 35|\n",
            "|         10|    139|           80|            0|      0|27.1|                   1.441| 57|          No|          Over 50|\n",
            "|          1|    189|           60|           23|    846|30.1|                   0.398| 59|         yes|          Over 50|\n",
            "|          5|    166|           72|           19|    175|25.8|                   0.587| 51|         yes|          Over 50|\n",
            "|          7|    100|            0|            0|      0|30.0|                   0.484| 32|         yes|Between 25 and 35|\n",
            "|          0|    118|           84|           47|    230|45.8|                   0.551| 31|         yes|Between 25 and 35|\n",
            "|          7|    107|           74|            0|      0|29.6|                   0.254| 31|         yes|Between 25 and 35|\n",
            "|          1|    103|           30|           38|     83|43.3|                   0.183| 33|          No|Between 25 and 35|\n",
            "|          1|    115|           70|           30|     96|34.6|                   0.529| 32|         yes|Between 25 and 35|\n",
            "+-----------+-------+-------------+-------------+-------+----+------------------------+---+------------+-----------------+\n",
            "only showing top 20 rows\n",
            "\n"
          ],
          "name": "stdout"
        }
      ]
    },
    {
      "cell_type": "code",
      "metadata": {
        "id": "knh0aobLOGkW"
      },
      "source": [
        "from pyspark.ml.feature import OneHotEncoder\n",
        "from pyspark.ml import Pipeline\n",
        "from pyspark.ml.feature import StringIndexer\n",
        "from pyspark.ml.feature import VectorAssembler\n",
        "\n",
        "# Your code here\n",
        "\n",
        "categoricalColumns= ['Age_udf']\n",
        "stages=[]\n",
        "for categoricalCol in categoricalColumns:\n",
        "  stringIndexer = StringIndexer(inputCol= categoricalCol, outputCol = categoricalCol+ 'Index')\n",
        "  encoder = OneHotEncoder(inputCols=[stringIndexer.getOutputCol()], outputCols= [categoricalCol+\"classVec\"])\n",
        "  stages+= [stringIndexer, encoder]\n",
        "label_stringIdx= StringIndexer(inputCol = 'HasDiabities', outputCol = 'label')\n",
        "stages +=[label_stringIdx]  \n",
        "numericCols= ['Pregnancies', 'Glucose', 'BloodPressure', 'SkinThickness', 'Insulin','BMI','DiabetesPedigreeFunction']\n",
        "assemblerInputs = [c + 'classVec' for c in categoricalColumns] + numericCols\n",
        "assembler = VectorAssembler(inputCols = assemblerInputs, outputCol = \"features\")\n",
        "stages+= [assembler]"
      ],
      "execution_count": 28,
      "outputs": []
    },
    {
      "cell_type": "code",
      "metadata": {
        "id": "TVLbI-__PasB"
      },
      "source": [
        "pipeline= Pipeline(stages = stages)\n",
        "pipelineModel = pipeline.fit(df)\n",
        "df_transformed = pipelineModel.transform(df)"
      ],
      "execution_count": 30,
      "outputs": []
    },
    {
      "cell_type": "code",
      "metadata": {
        "colab": {
          "base_uri": "https://localhost:8080/"
        },
        "id": "NpMpIf0QQbZs",
        "outputId": "ab9f8043-74ef-418c-929c-d6b73d62f250"
      },
      "source": [
        "df_transformed.show(5)"
      ],
      "execution_count": 32,
      "outputs": [
        {
          "output_type": "stream",
          "text": [
            "+-----------+-------+-------------+-------------+-------+----+------------------------+---+------------+-----------------+------------+---------------+-----+--------------------+\n",
            "|Pregnancies|Glucose|BloodPressure|SkinThickness|Insulin| BMI|DiabetesPedigreeFunction|Age|HasDiabities|          Age_udf|Age_udfIndex|Age_udfclassVec|label|            features|\n",
            "+-----------+-------+-------------+-------------+-------+----+------------------------+---+------------+-----------------+------------+---------------+-----+--------------------+\n",
            "|          6|    148|           72|           35|      0|33.6|                   0.627| 50|         yes|              N/A|         4.0|      (4,[],[])|  1.0|(11,[4,5,6,7,9,10...|\n",
            "|          1|     85|           66|           29|      0|26.6|                   0.351| 31|          No|Between 25 and 35|         1.0|  (4,[1],[1.0])|  0.0|[0.0,1.0,0.0,0.0,...|\n",
            "|          8|    183|           64|            0|      0|23.3|                   0.672| 32|         yes|Between 25 and 35|         1.0|  (4,[1],[1.0])|  1.0|(11,[1,4,5,6,9,10...|\n",
            "|          1|     89|           66|           23|     94|28.1|                   0.167| 21|          No|         Under 25|         0.0|  (4,[0],[1.0])|  0.0|[1.0,0.0,0.0,0.0,...|\n",
            "|          0|    137|           40|           35|    168|43.1|                   2.288| 33|         yes|Between 25 and 35|         1.0|  (4,[1],[1.0])|  1.0|[0.0,1.0,0.0,0.0,...|\n",
            "+-----------+-------+-------------+-------------+-------+----+------------------------+---+------------+-----------------+------------+---------------+-----+--------------------+\n",
            "only showing top 5 rows\n",
            "\n"
          ],
          "name": "stdout"
        }
      ]
    },
    {
      "cell_type": "code",
      "metadata": {
        "colab": {
          "base_uri": "https://localhost:8080/"
        },
        "id": "PlzuDJlrRr1U",
        "outputId": "78f7d791-5d74-4b45-c720-2ef9a49e2fb6"
      },
      "source": [
        "cols= df.columns\n",
        "selectedcols = ['label','features']+cols\n",
        "df= df_transformed.select(selectedcols)\n",
        "df.printSchema()"
      ],
      "execution_count": 33,
      "outputs": [
        {
          "output_type": "stream",
          "text": [
            "root\n",
            " |-- label: double (nullable = false)\n",
            " |-- features: vector (nullable = true)\n",
            " |-- Pregnancies: integer (nullable = true)\n",
            " |-- Glucose: integer (nullable = true)\n",
            " |-- BloodPressure: integer (nullable = true)\n",
            " |-- SkinThickness: integer (nullable = true)\n",
            " |-- Insulin: integer (nullable = true)\n",
            " |-- BMI: double (nullable = true)\n",
            " |-- DiabetesPedigreeFunction: double (nullable = true)\n",
            " |-- Age: integer (nullable = true)\n",
            " |-- HasDiabities: string (nullable = true)\n",
            " |-- Age_udf: string (nullable = true)\n",
            "\n"
          ],
          "name": "stdout"
        }
      ]
    },
    {
      "cell_type": "code",
      "metadata": {
        "colab": {
          "base_uri": "https://localhost:8080/"
        },
        "id": "DD3BzeYBSIST",
        "outputId": "48e97c03-2361-4279-d89e-30bcc969a9b8"
      },
      "source": [
        "train, test = df.randomSplit([0.8, 0.2], seed= 99999)\n",
        "print(\"Training Dataset count: \", str(train.count()))\n",
        "print(\"Test Dataset count: \", str(test.count()))"
      ],
      "execution_count": 34,
      "outputs": [
        {
          "output_type": "stream",
          "text": [
            "Training Dataset count:  617\n",
            "Test Dataset count:  151\n"
          ],
          "name": "stdout"
        }
      ]
    },
    {
      "cell_type": "markdown",
      "metadata": {
        "id": "ZTbOgAJBeGTo"
      },
      "source": [
        "# Models"
      ]
    },
    {
      "cell_type": "markdown",
      "metadata": {
        "id": "YzZkJfDid_jt"
      },
      "source": [
        "## LogisticRegression"
      ]
    },
    {
      "cell_type": "code",
      "metadata": {
        "id": "F-JDWJXHSPwd"
      },
      "source": [
        "from pyspark.ml.classification import LogisticRegression"
      ],
      "execution_count": 35,
      "outputs": []
    },
    {
      "cell_type": "code",
      "metadata": {
        "id": "fslEwNmoST85"
      },
      "source": [
        "lr= LogisticRegression(featuresCol='features', labelCol='label', maxIter=5)\n",
        "lrmodel= lr.fit(train)"
      ],
      "execution_count": 36,
      "outputs": []
    },
    {
      "cell_type": "code",
      "metadata": {
        "colab": {
          "base_uri": "https://localhost:8080/"
        },
        "id": "N2t9WMLFSWOS",
        "outputId": "48c760dd-312e-4267-b969-ce12c3d4bc6b"
      },
      "source": [
        "lrmodel.summary.accuracy"
      ],
      "execution_count": 37,
      "outputs": [
        {
          "output_type": "execute_result",
          "data": {
            "text/plain": [
              "0.7406807131280388"
            ]
          },
          "metadata": {
            "tags": []
          },
          "execution_count": 37
        }
      ]
    },
    {
      "cell_type": "code",
      "metadata": {
        "colab": {
          "base_uri": "https://localhost:8080/",
          "height": 289
        },
        "id": "1Pj3GdMdTKDL",
        "outputId": "d3af429c-30dd-468a-a379-9b53fd8f2e39"
      },
      "source": [
        "prediction= lrmodel.transform(test)\n",
        "prediction.select('label', 'features', 'rawPrediction', 'prediction', 'probability').toPandas().head(5)"
      ],
      "execution_count": 38,
      "outputs": [
        {
          "output_type": "execute_result",
          "data": {
            "text/html": [
              "<div>\n",
              "<style scoped>\n",
              "    .dataframe tbody tr th:only-of-type {\n",
              "        vertical-align: middle;\n",
              "    }\n",
              "\n",
              "    .dataframe tbody tr th {\n",
              "        vertical-align: top;\n",
              "    }\n",
              "\n",
              "    .dataframe thead th {\n",
              "        text-align: right;\n",
              "    }\n",
              "</style>\n",
              "<table border=\"1\" class=\"dataframe\">\n",
              "  <thead>\n",
              "    <tr style=\"text-align: right;\">\n",
              "      <th></th>\n",
              "      <th>label</th>\n",
              "      <th>features</th>\n",
              "      <th>rawPrediction</th>\n",
              "      <th>prediction</th>\n",
              "      <th>probability</th>\n",
              "    </tr>\n",
              "  </thead>\n",
              "  <tbody>\n",
              "    <tr>\n",
              "      <th>0</th>\n",
              "      <td>0.0</td>\n",
              "      <td>(1.0, 0.0, 0.0, 0.0, 2.0, 90.0, 60.0, 0.0, 0.0...</td>\n",
              "      <td>[2.383231419263786, -2.383231419263786]</td>\n",
              "      <td>0.0</td>\n",
              "      <td>[0.9155396453519554, 0.08446035464804458]</td>\n",
              "    </tr>\n",
              "    <tr>\n",
              "      <th>1</th>\n",
              "      <td>0.0</td>\n",
              "      <td>(1.0, 0.0, 0.0, 0.0, 2.0, 91.0, 62.0, 0.0, 0.0...</td>\n",
              "      <td>[2.226893311514571, -2.226893311514571]</td>\n",
              "      <td>0.0</td>\n",
              "      <td>[0.902638678029611, 0.09736132197038905]</td>\n",
              "    </tr>\n",
              "    <tr>\n",
              "      <th>2</th>\n",
              "      <td>0.0</td>\n",
              "      <td>(1.0, 0.0, 0.0, 0.0, 2.0, 111.0, 60.0, 0.0, 0....</td>\n",
              "      <td>[1.8809071371086512, -1.8809071371086512]</td>\n",
              "      <td>0.0</td>\n",
              "      <td>[0.8677152873526073, 0.13228471264739272]</td>\n",
              "    </tr>\n",
              "    <tr>\n",
              "      <th>3</th>\n",
              "      <td>0.0</td>\n",
              "      <td>(1.0, 0.0, 0.0, 0.0, 3.0, 80.0, 0.0, 0.0, 0.0,...</td>\n",
              "      <td>[1.075615097595022, -1.075615097595022]</td>\n",
              "      <td>0.0</td>\n",
              "      <td>[0.7456632847348876, 0.25433671526511237]</td>\n",
              "    </tr>\n",
              "    <tr>\n",
              "      <th>4</th>\n",
              "      <td>0.0</td>\n",
              "      <td>(1.0, 0.0, 0.0, 0.0, 7.0, 105.0, 0.0, 0.0, 0.0...</td>\n",
              "      <td>[0.5641027934161749, -0.5641027934161749]</td>\n",
              "      <td>0.0</td>\n",
              "      <td>[0.6374013150218999, 0.3625986849781001]</td>\n",
              "    </tr>\n",
              "  </tbody>\n",
              "</table>\n",
              "</div>"
            ],
            "text/plain": [
              "   label  ...                                probability\n",
              "0    0.0  ...  [0.9155396453519554, 0.08446035464804458]\n",
              "1    0.0  ...   [0.902638678029611, 0.09736132197038905]\n",
              "2    0.0  ...  [0.8677152873526073, 0.13228471264739272]\n",
              "3    0.0  ...  [0.7456632847348876, 0.25433671526511237]\n",
              "4    0.0  ...   [0.6374013150218999, 0.3625986849781001]\n",
              "\n",
              "[5 rows x 5 columns]"
            ]
          },
          "metadata": {
            "tags": []
          },
          "execution_count": 38
        }
      ]
    },
    {
      "cell_type": "code",
      "metadata": {
        "colab": {
          "base_uri": "https://localhost:8080/"
        },
        "id": "11WgIDqAStQA",
        "outputId": "931d58c8-d176-47c9-dae1-e77a87f698c0"
      },
      "source": [
        "from pyspark.ml.evaluation import BinaryClassificationEvaluator\n",
        "\n",
        "evaluator = BinaryClassificationEvaluator()\n",
        "print('Test Area Under ROC', evaluator.evaluate(prediction))"
      ],
      "execution_count": 40,
      "outputs": [
        {
          "output_type": "stream",
          "text": [
            "Test Area Under ROC 0.7983682983682975\n"
          ],
          "name": "stdout"
        }
      ]
    },
    {
      "cell_type": "code",
      "metadata": {
        "id": "uBu2wl2tTu6c"
      },
      "source": [
        "from pyspark.ml.tuning import ParamGridBuilder, CrossValidator\n",
        "\n",
        "ParamGrid = (ParamGridBuilder().addGrid(lr.regParam, [0.01, 0.5, 2]).addGrid(lr.elasticNetParam, [0.0, 0.5,1.0]).addGrid(lr.maxIter,[1,5,10]).build())\n"
      ],
      "execution_count": 42,
      "outputs": []
    },
    {
      "cell_type": "code",
      "metadata": {
        "id": "IYFxzXlrXHNi"
      },
      "source": [
        "cv = CrossValidator(estimator=lr, estimatorParamMaps=ParamGrid, evaluator=evaluator, numFolds=5)\n",
        "cvModel= cv.fit(train)"
      ],
      "execution_count": 43,
      "outputs": []
    },
    {
      "cell_type": "code",
      "metadata": {
        "colab": {
          "base_uri": "https://localhost:8080/"
        },
        "id": "j77ATMzPXa8q",
        "outputId": "7a8b0660-2ac6-4cab-9fde-77e68d3e8191"
      },
      "source": [
        "#Best Model Performance\n",
        "Predictions= cvModel.transform(test)\n",
        "print(\"Best Model Test Area Under ROC\", evaluator.evaluate(Predictions))"
      ],
      "execution_count": 44,
      "outputs": [
        {
          "output_type": "stream",
          "text": [
            "Best Model Test Area Under ROC 0.853729603729603\n"
          ],
          "name": "stdout"
        }
      ]
    },
    {
      "cell_type": "code",
      "metadata": {
        "colab": {
          "base_uri": "https://localhost:8080/",
          "height": 202
        },
        "id": "zcfqRAOLXzQs",
        "outputId": "64e8f0b2-be51-4660-d7e1-a0219a3b68f4"
      },
      "source": [
        "#Best Model Feature Weights\n",
        "from pyspark.sql import SQLContext\n",
        "sqlContext = SQLContext(spark)\n",
        "weights = cvModel.bestModel.coefficients\n",
        "weights= [(float(w),) for w in weights]\n",
        "\n",
        "weightsDF = sqlContext.createDataFrame(weights, [\"Feature Weight\"])\n",
        "\n",
        "weightsDF.toPandas().head(5)"
      ],
      "execution_count": 50,
      "outputs": [
        {
          "output_type": "execute_result",
          "data": {
            "text/html": [
              "<div>\n",
              "<style scoped>\n",
              "    .dataframe tbody tr th:only-of-type {\n",
              "        vertical-align: middle;\n",
              "    }\n",
              "\n",
              "    .dataframe tbody tr th {\n",
              "        vertical-align: top;\n",
              "    }\n",
              "\n",
              "    .dataframe thead th {\n",
              "        text-align: right;\n",
              "    }\n",
              "</style>\n",
              "<table border=\"1\" class=\"dataframe\">\n",
              "  <thead>\n",
              "    <tr style=\"text-align: right;\">\n",
              "      <th></th>\n",
              "      <th>Feature Weight</th>\n",
              "    </tr>\n",
              "  </thead>\n",
              "  <tbody>\n",
              "    <tr>\n",
              "      <th>0</th>\n",
              "      <td>-0.281617</td>\n",
              "    </tr>\n",
              "    <tr>\n",
              "      <th>1</th>\n",
              "      <td>-0.004310</td>\n",
              "    </tr>\n",
              "    <tr>\n",
              "      <th>2</th>\n",
              "      <td>0.206675</td>\n",
              "    </tr>\n",
              "    <tr>\n",
              "      <th>3</th>\n",
              "      <td>0.125383</td>\n",
              "    </tr>\n",
              "    <tr>\n",
              "      <th>4</th>\n",
              "      <td>0.027253</td>\n",
              "    </tr>\n",
              "  </tbody>\n",
              "</table>\n",
              "</div>"
            ],
            "text/plain": [
              "   Feature Weight\n",
              "0       -0.281617\n",
              "1       -0.004310\n",
              "2        0.206675\n",
              "3        0.125383\n",
              "4        0.027253"
            ]
          },
          "metadata": {
            "tags": []
          },
          "execution_count": 50
        }
      ]
    },
    {
      "cell_type": "code",
      "metadata": {
        "id": "W3wLqph-aenR"
      },
      "source": [
        "#Best Model Parameters"
      ],
      "execution_count": null,
      "outputs": []
    },
    {
      "cell_type": "code",
      "metadata": {
        "colab": {
          "base_uri": "https://localhost:8080/"
        },
        "id": "c1GwcVF3a1DB",
        "outputId": "4d3d6830-4e14-40af-9991-83bd85d03a04"
      },
      "source": [
        "best_model= cvModel.bestModel\n",
        "\n",
        "print('Best Param (regParam): ',best_model._java_obj.getRegParam())\n",
        "print('Best Param (MaxIter): ', best_model._java_obj.getMaxIter())\n",
        "print('Best Param (eleasticNetParam): ', best_model._java_obj.getElasticNetParam())"
      ],
      "execution_count": 51,
      "outputs": [
        {
          "output_type": "stream",
          "text": [
            "Best Param (regParam):  0.5\n",
            "Best Param (MaxIter):  10\n",
            "Best Param (eleasticNetParam):  0.0\n"
          ],
          "name": "stdout"
        }
      ]
    },
    {
      "cell_type": "markdown",
      "metadata": {
        "id": "rnknXDrWd3NM"
      },
      "source": [
        "## DecisionTreeClassifier"
      ]
    },
    {
      "cell_type": "code",
      "metadata": {
        "id": "l3CxQm2Kc5nL"
      },
      "source": [
        "from pyspark.ml.classification import DecisionTreeClassifier\n",
        "dc = DecisionTreeClassifier()"
      ],
      "execution_count": 53,
      "outputs": []
    },
    {
      "cell_type": "code",
      "metadata": {
        "colab": {
          "base_uri": "https://localhost:8080/"
        },
        "id": "tmF9bu3meMZW",
        "outputId": "4ea29bb8-fc89-4e28-f72d-2b20887daf24"
      },
      "source": [
        "ParamGrid = (ParamGridBuilder().addGrid(dc.maxDepth, [2,3,5,10,15, 20]).addGrid(dc.maxBins, [5,10,20,30,40,50]).build())\n",
        "cv = CrossValidator(estimator=dc, estimatorParamMaps=ParamGrid, evaluator=evaluator, numFolds=5)\n",
        "cvModel= cv.fit(train)\n",
        "\n",
        "#Best Model Performance\n",
        "Predictions= cvModel.transform(test)\n",
        "print(\"Best Model Test Area Under ROC\", evaluator.evaluate(Predictions))"
      ],
      "execution_count": 56,
      "outputs": [
        {
          "output_type": "stream",
          "text": [
            "Best Model Test Area Under ROC 0.7142579642579643\n"
          ],
          "name": "stdout"
        }
      ]
    },
    {
      "cell_type": "code",
      "metadata": {
        "colab": {
          "base_uri": "https://localhost:8080/"
        },
        "id": "5fIlro7Dgn9e",
        "outputId": "331160e7-3e2a-4634-9f70-a50c9191d940"
      },
      "source": [
        "#Best Model Parameters\n",
        "best_model= cvModel.bestModel\n",
        "\n",
        "\n",
        "print('Best Param (maxDepth): ',best_model._java_obj.getMaxDepth())\n",
        "print('Best Param (maxBins): ', best_model._java_obj.getMaxBins())\n",
        "\n"
      ],
      "execution_count": 74,
      "outputs": [
        {
          "output_type": "stream",
          "text": [
            "Best Param (maxDepth):  10\n",
            "Best Param (maxBins):  10\n"
          ],
          "name": "stdout"
        }
      ]
    },
    {
      "cell_type": "markdown",
      "metadata": {
        "id": "lK_dw1L3iyfK"
      },
      "source": [
        "## RandomForestClassifier"
      ]
    },
    {
      "cell_type": "code",
      "metadata": {
        "id": "8S0BzoSDi2BZ"
      },
      "source": [
        "from pyspark.ml.classification import RandomForestClassifier\n",
        "rfc= RandomForestClassifier()"
      ],
      "execution_count": 76,
      "outputs": []
    },
    {
      "cell_type": "code",
      "metadata": {
        "colab": {
          "base_uri": "https://localhost:8080/"
        },
        "id": "qfISmbhZkQAl",
        "outputId": "83c34f26-84ab-42a5-b6f2-7f29e168ff09"
      },
      "source": [
        "\n",
        "\n",
        "ParamGrid = (ParamGridBuilder().addGrid(rfc.numTrees, [2,3,5,10,15,20]).addGrid(rfc.maxDepth, [2,3,5,10,15, 20]).addGrid(rfc.maxBins, [5,10,20,30,40,50]).build())\n",
        "cv = CrossValidator(estimator=rfc, estimatorParamMaps=ParamGrid, evaluator=evaluator, numFolds=5)\n",
        "cvModel= cv.fit(train)\n",
        "\n",
        "#Best Model Performance\n",
        "Predictions= cvModel.transform(test)\n",
        "print(\"Best Model Test Area Under ROC\", evaluator.evaluate(Predictions))"
      ],
      "execution_count": 77,
      "outputs": [
        {
          "output_type": "stream",
          "text": [
            "Best Model Test Area Under ROC 0.827214452214452\n"
          ],
          "name": "stdout"
        }
      ]
    },
    {
      "cell_type": "code",
      "metadata": {
        "colab": {
          "base_uri": "https://localhost:8080/"
        },
        "id": "UoKcIcKykRHV",
        "outputId": "f319b64d-907c-4497-bc60-716757ae9d90"
      },
      "source": [
        "#Best Model Parameters\n",
        "best_model= cvModel.bestModel\n",
        "\n",
        "\n",
        "print('Best Param (maxDepth): ',best_model._java_obj.getMaxDepth())\n",
        "print('Best Param (maxBins): ', best_model._java_obj.getMaxBins())\n"
      ],
      "execution_count": 79,
      "outputs": [
        {
          "output_type": "stream",
          "text": [
            "Best Param (maxDepth):  5\n",
            "Best Param (maxBins):  40\n"
          ],
          "name": "stdout"
        }
      ]
    },
    {
      "cell_type": "markdown",
      "metadata": {
        "id": "dNYNSaiBlsma"
      },
      "source": [
        "## Gradient-boosted tree classifier"
      ]
    },
    {
      "cell_type": "code",
      "metadata": {
        "id": "9bq-DP3BkRVF"
      },
      "source": [
        "from pyspark.ml.classification import GBTClassifier\n",
        "gbt= GBTClassifier()"
      ],
      "execution_count": 83,
      "outputs": []
    },
    {
      "cell_type": "code",
      "metadata": {
        "colab": {
          "base_uri": "https://localhost:8080/"
        },
        "id": "MjVWXemCkR58",
        "outputId": "4193b896-9fe9-4435-9b19-dac212b64648"
      },
      "source": [
        "ParamGrid = (ParamGridBuilder().addGrid(gbt.maxIter, [5,10,15,20,25]).build())\n",
        "cv = CrossValidator(estimator=gbt, estimatorParamMaps=ParamGrid, evaluator=evaluator, numFolds=5)\n",
        "cvModel= cv.fit(train)\n",
        "\n",
        "#Best Model Performance\n",
        "Predictions= cvModel.transform(test)\n",
        "print(\"Best Model Test Area Under ROC\", evaluator.evaluate(Predictions))"
      ],
      "execution_count": 85,
      "outputs": [
        {
          "output_type": "stream",
          "text": [
            "Best Model Test Area Under ROC 0.7855477855477851\n"
          ],
          "name": "stdout"
        }
      ]
    },
    {
      "cell_type": "code",
      "metadata": {
        "colab": {
          "base_uri": "https://localhost:8080/"
        },
        "id": "p__GPlLTkR8l",
        "outputId": "b1f0266a-8ab0-4287-8d1c-f900036fcc54"
      },
      "source": [
        "#Best Model Parameters\n",
        "best_model= cvModel.bestModel\n",
        "\n",
        "\n",
        "print('Best Param (MaxIter): ', best_model._java_obj.getMaxIter())\n",
        "\n"
      ],
      "execution_count": 86,
      "outputs": [
        {
          "output_type": "stream",
          "text": [
            "Best Param (MaxIter):  20\n"
          ],
          "name": "stdout"
        }
      ]
    },
    {
      "cell_type": "markdown",
      "metadata": {
        "id": "fUqmTZJ6qqmB"
      },
      "source": [
        "## Linear Support Vector Machine"
      ]
    },
    {
      "cell_type": "code",
      "metadata": {
        "id": "TpiqFh1lkSNP"
      },
      "source": [
        "from pyspark.ml.classification import LinearSVC\n",
        "l_SVC =LinearSVC()"
      ],
      "execution_count": 103,
      "outputs": []
    },
    {
      "cell_type": "code",
      "metadata": {
        "colab": {
          "base_uri": "https://localhost:8080/"
        },
        "id": "nBiTXEEBkSPg",
        "outputId": "4375642e-6651-4091-8500-207b40c4653a"
      },
      "source": [
        "ParamGrid = (ParamGridBuilder().addGrid(l_SVC.maxIter, [2,3,5,10,15, 20]).addGrid(l_SVC.regParam, [0.1, 0.2,0.5]).build())\n",
        "cv = CrossValidator(estimator=l_SVC, estimatorParamMaps=ParamGrid, evaluator=evaluator, numFolds=5)\n",
        "cvModel= cv.fit(train)\n",
        "\n",
        "#Best Model Performance\n",
        "Predictions= cvModel.transform(test)\n",
        "print(\"Best Model Test Area Under ROC\", evaluator.evaluate(Predictions))"
      ],
      "execution_count": 104,
      "outputs": [
        {
          "output_type": "stream",
          "text": [
            "Best Model Test Area Under ROC 0.7299922299922301\n"
          ],
          "name": "stdout"
        }
      ]
    },
    {
      "cell_type": "code",
      "metadata": {
        "colab": {
          "base_uri": "https://localhost:8080/"
        },
        "id": "VHqH74dhkSS3",
        "outputId": "74d21663-f536-4c66-9487-2c9d2b6212dc"
      },
      "source": [
        "#Best Model Parameters\n",
        "best_model= cvModel.bestModel\n",
        "\n",
        "\n",
        "print('Best Param (maxIter): ',best_model._java_obj.getMaxIter())\n",
        "print('Best Param (regParam): ', best_model._java_obj.getRegParam())\n"
      ],
      "execution_count": 116,
      "outputs": [
        {
          "output_type": "stream",
          "text": [
            "Best Param (maxIter):  20\n",
            "Best Param (regParam):  0.1\n"
          ],
          "name": "stdout"
        }
      ]
    },
    {
      "cell_type": "code",
      "metadata": {
        "id": "vS4IOxpFun6c"
      },
      "source": [
        "from pyspark.ml.classification import LogisticRegression, OneVsRest\n",
        "lr =LogisticRegression()\n",
        "ovr=OneVsRest().setClassifier(lr)\n"
      ],
      "execution_count": 115,
      "outputs": []
    },
    {
      "cell_type": "code",
      "metadata": {
        "colab": {
          "base_uri": "https://localhost:8080/"
        },
        "id": "yDzJlc3vuoEU",
        "outputId": "71031f1c-4f36-4657-8bc9-1c70bd990aed"
      },
      "source": [
        "from pyspark.ml.evaluation import MulticlassClassificationEvaluator\n",
        "Model= ovr.fit(train)\n",
        "\n",
        "#Best Model Performance\n",
        "Predictions= Model.transform(test)\n",
        "evaluator=MulticlassClassificationEvaluator()\n",
        "print(\"Test Area Under ROC\", evaluator.evaluate(Predictions))"
      ],
      "execution_count": 122,
      "outputs": [
        {
          "output_type": "stream",
          "text": [
            "Test Area Under ROC 0.7606037096586798\n"
          ],
          "name": "stdout"
        }
      ]
    },
    {
      "cell_type": "markdown",
      "metadata": {
        "id": "PQEp1CEmxzZx"
      },
      "source": [
        "## Naive Bayes"
      ]
    },
    {
      "cell_type": "code",
      "metadata": {
        "id": "1AMuvZY7x-Fy"
      },
      "source": [
        "from pyspark.ml.classification import NaiveBayes\n",
        "nb= NaiveBayes()"
      ],
      "execution_count": 126,
      "outputs": []
    },
    {
      "cell_type": "code",
      "metadata": {
        "colab": {
          "base_uri": "https://localhost:8080/"
        },
        "id": "AVYYXGPwx-JN",
        "outputId": "b359ce0c-d724-4428-ded1-25e5087e5800"
      },
      "source": [
        "Model= nb.fit(train)\n",
        "\n",
        "#Best Model Performance\n",
        "Predictions= Model.transform(test)\n",
        "evaluator=MulticlassClassificationEvaluator()\n",
        "print(\"Test Area Under ROC\", evaluator.evaluate(Predictions))"
      ],
      "execution_count": 127,
      "outputs": [
        {
          "output_type": "stream",
          "text": [
            "Test Area Under ROC 0.5854209416256826\n"
          ],
          "name": "stdout"
        }
      ]
    },
    {
      "cell_type": "markdown",
      "metadata": {
        "id": "JfaAPqavx-f9"
      },
      "source": [
        "## Factorization machines classifier"
      ]
    },
    {
      "cell_type": "code",
      "metadata": {
        "id": "BmZSFmZuyLHo"
      },
      "source": [
        "from pyspark.ml.classification import FMClassifier\n",
        "fmc= FMClassifier()"
      ],
      "execution_count": 128,
      "outputs": []
    },
    {
      "cell_type": "code",
      "metadata": {
        "colab": {
          "base_uri": "https://localhost:8080/"
        },
        "id": "aM_B3vsvyLLM",
        "outputId": "c4b62a0f-f14e-46b9-c448-e7ad461c7607"
      },
      "source": [
        "ParamGrid = (ParamGridBuilder().addGrid(fmc.stepSize, [0.001,0.01,0.1]).build())\n",
        "cv = CrossValidator(estimator=fmc, estimatorParamMaps=ParamGrid, evaluator=evaluator, numFolds=5)\n",
        "cvModel= cv.fit(train)\n",
        "\n",
        "#Best Model Performance\n",
        "Predictions= cvModel.transform(test)\n",
        "print(\"Best Model Test Area Under ROC\", evaluator.evaluate(Predictions))"
      ],
      "execution_count": 129,
      "outputs": [
        {
          "output_type": "stream",
          "text": [
            "Best Model Test Area Under ROC 0.7387148738142116\n"
          ],
          "name": "stdout"
        }
      ]
    }
  ]
}